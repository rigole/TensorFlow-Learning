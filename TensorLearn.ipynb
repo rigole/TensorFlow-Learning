{
  "nbformat": 4,
  "nbformat_minor": 0,
  "metadata": {
    "colab": {
      "name": "TensorLearn.ipynb",
      "provenance": [],
      "toc_visible": true,
      "authorship_tag": "ABX9TyNg9gRPkdLvKASm7vqRrgFH",
      "include_colab_link": true
    },
    "kernelspec": {
      "name": "python3",
      "display_name": "Python 3"
    },
    "language_info": {
      "name": "python"
    }
  },
  "cells": [
    {
      "cell_type": "markdown",
      "metadata": {
        "id": "view-in-github",
        "colab_type": "text"
      },
      "source": [
        "<a href=\"https://colab.research.google.com/github/rigole/TensorFlow-Learning/blob/main/TensorLearn.ipynb\" target=\"_parent\"><img src=\"https://colab.research.google.com/assets/colab-badge.svg\" alt=\"Open In Colab\"/></a>"
      ]
    },
    {
      "cell_type": "code",
      "metadata": {
        "id": "efHs623ReZGp"
      },
      "source": [
        ""
      ],
      "execution_count": null,
      "outputs": []
    },
    {
      "cell_type": "markdown",
      "metadata": {
        "id": "21y5PIxGebHq"
      },
      "source": [
        "# Constants\n"
      ]
    },
    {
      "cell_type": "code",
      "metadata": {
        "id": "cQR-XJ7Sbg1f"
      },
      "source": [
        "import tensorflow as tf"
      ],
      "execution_count": 1,
      "outputs": []
    },
    {
      "cell_type": "code",
      "metadata": {
        "colab": {
          "base_uri": "https://localhost:8080/",
          "height": 35
        },
        "id": "51duGOmwb-y8",
        "outputId": "65cfa500-d7cf-40cc-a8ff-ed221c4ad1ab"
      },
      "source": [
        "tf.__version__"
      ],
      "execution_count": null,
      "outputs": [
        {
          "output_type": "execute_result",
          "data": {
            "application/vnd.google.colaboratory.intrinsic+json": {
              "type": "string"
            },
            "text/plain": [
              "'2.5.0'"
            ]
          },
          "metadata": {
            "tags": []
          },
          "execution_count": 2
        }
      ]
    },
    {
      "cell_type": "code",
      "metadata": {
        "id": "Q_Akw0w9cnRg"
      },
      "source": [
        "# Defining a tensorflow constant\n",
        "tensor = tf.constant([[23, 4], [32, 51]])"
      ],
      "execution_count": 3,
      "outputs": []
    },
    {
      "cell_type": "code",
      "metadata": {
        "colab": {
          "base_uri": "https://localhost:8080/"
        },
        "id": "vWH2B-ULdMKc",
        "outputId": "e05a407f-565c-4360-acb0-07df941f349f"
      },
      "source": [
        "tensor"
      ],
      "execution_count": 4,
      "outputs": [
        {
          "output_type": "execute_result",
          "data": {
            "text/plain": [
              "<tf.Tensor: shape=(2, 2), dtype=int32, numpy=\n",
              "array([[23,  4],\n",
              "       [32, 51]], dtype=int32)>"
            ]
          },
          "metadata": {
            "tags": []
          },
          "execution_count": 4
        }
      ]
    },
    {
      "cell_type": "code",
      "metadata": {
        "id": "NoWkfFChf2eA"
      },
      "source": [
        ""
      ],
      "execution_count": null,
      "outputs": []
    },
    {
      "cell_type": "markdown",
      "metadata": {
        "id": "-HdNvfskh5hW"
      },
      "source": [
        "# Variables\n"
      ]
    },
    {
      "cell_type": "code",
      "metadata": {
        "id": "v1g-Cof9iBpB"
      },
      "source": [
        "# Defining a variable in TensorFlow\n",
        "variable = tf.Variable([[30, 20],[10, 45]])"
      ],
      "execution_count": null,
      "outputs": []
    },
    {
      "cell_type": "code",
      "metadata": {
        "colab": {
          "base_uri": "https://localhost:8080/"
        },
        "id": "ENLXs4JNjtJd",
        "outputId": "95a6280a-53e0-425c-aef7-6b04b272c4f3"
      },
      "source": [
        "variable"
      ],
      "execution_count": null,
      "outputs": [
        {
          "output_type": "execute_result",
          "data": {
            "text/plain": [
              "<tf.Variable 'Variable:0' shape=(2, 2) dtype=int32, numpy=\n",
              "array([[30, 20],\n",
              "       [10, 45]], dtype=int32)>"
            ]
          },
          "metadata": {
            "tags": []
          },
          "execution_count": 19
        }
      ]
    },
    {
      "cell_type": "code",
      "metadata": {
        "id": "Erhd1YVejJhX"
      },
      "source": [
        ""
      ],
      "execution_count": null,
      "outputs": []
    },
    {
      "cell_type": "markdown",
      "metadata": {
        "id": "LYAIEXEJOzJ4"
      },
      "source": [
        "# Building Artificial Neural Network"
      ]
    },
    {
      "cell_type": "code",
      "metadata": {
        "id": "SA_x4aexO8vn"
      },
      "source": [
        "# Importing the librairies and the data set\n",
        "\n",
        "import numpy as np\n",
        "import datetime\n",
        "import tensorflow as tf\n",
        "from tensorflow.keras.datasets import fashion_mnist"
      ],
      "execution_count": 4,
      "outputs": []
    },
    {
      "cell_type": "code",
      "metadata": {
        "id": "dRgsSvhXPc-u"
      },
      "source": [
        "# Loading the data set\n",
        "(X_train, y_train),(X_test, y_test) = fashion_mnist.load_data()"
      ],
      "execution_count": 8,
      "outputs": []
    },
    {
      "cell_type": "markdown",
      "metadata": {
        "id": "JUj3i-FURIzV"
      },
      "source": [
        "we divide each of the image in the training and test set by the minimum number of pixels(255).\n",
        "\n",
        "In this way each pixel will be in the range [0,1]. By normalizing images we make sure that our model train faster"
      ]
    },
    {
      "cell_type": "code",
      "metadata": {
        "id": "wkxBWmJ-Qu62"
      },
      "source": [
        " # Normalizing the images\n",
        "\n",
        "X_train = X_train / 255.0"
      ],
      "execution_count": 9,
      "outputs": []
    },
    {
      "cell_type": "code",
      "metadata": {
        "id": "-6uVMkLVR03h"
      },
      "source": [
        "X_test = X_test / 255.0"
      ],
      "execution_count": 10,
      "outputs": []
    },
    {
      "cell_type": "markdown",
      "metadata": {
        "id": "t61yqDErSWXn"
      },
      "source": [
        "Since we are building a fully connected network, we reshape the training set and the test set to be into the vector format"
      ]
    },
    {
      "cell_type": "code",
      "metadata": {
        "id": "CK9HuQyFR9XR"
      },
      "source": [
        "# Reshaping the dataset\n",
        "## since each image's dimension is 28x28, we reshape the full dataset to [-1, height * width]\n",
        "\n",
        "X_train = X_train.reshape(-1, 28*28)"
      ],
      "execution_count": 12,
      "outputs": []
    },
    {
      "cell_type": "code",
      "metadata": {
        "colab": {
          "base_uri": "https://localhost:8080/"
        },
        "id": "ZQzD0b2fSxBq",
        "outputId": "499c4d6d-8f31-4fa8-c20c-517a37f68183"
      },
      "source": [
        "X_train.shape"
      ],
      "execution_count": 14,
      "outputs": [
        {
          "output_type": "execute_result",
          "data": {
            "text/plain": [
              "(60000, 784)"
            ]
          },
          "metadata": {
            "tags": []
          },
          "execution_count": 14
        }
      ]
    },
    {
      "cell_type": "code",
      "metadata": {
        "id": "JP4P8hVeTpiD"
      },
      "source": [
        "# same for the the test shape\n",
        "X_test = X_test.reshape(-1, 28*28)"
      ],
      "execution_count": 15,
      "outputs": []
    },
    {
      "cell_type": "markdown",
      "metadata": {
        "id": "RRQf40qLWoMJ"
      },
      "source": [
        "Building the Artificial Neural Network"
      ]
    },
    {
      "cell_type": "code",
      "metadata": {
        "id": "W77JJy5ZUDI8"
      },
      "source": [
        "# Defining the model\n",
        "#simply define an object of the Sequential model\n",
        "\n",
        "model = tf.keras.models.Sequential()"
      ],
      "execution_count": 18,
      "outputs": []
    },
    {
      "cell_type": "code",
      "metadata": {
        "id": "CqjmWkR3XPSp"
      },
      "source": [
        "# Adding a first fully connected hidden layer\n",
        " #layers parameters\n",
        "  #numbers of units/neurons(128), action_function(ReLU), input_shape(784,)\n",
        "\n",
        "model.add(tf.keras.layers.Dense(units=128, activation='relu', input_shape=(784,)))"
      ],
      "execution_count": 17,
      "outputs": []
    },
    {
      "cell_type": "code",
      "metadata": {
        "id": "KGYvyZ_-auwj"
      },
      "source": [
        "# Adding a Second Layer \n",
        "model.add(tf.keras.layers.Dropout(0.2))"
      ],
      "execution_count": 19,
      "outputs": []
    },
    {
      "cell_type": "code",
      "metadata": {
        "id": "NDEVVv6sjAI1"
      },
      "source": [
        "# Adding the output layer\n",
        "model.add(tf.keras.layers.Dense(units=10, activation='softmax'))"
      ],
      "execution_count": 21,
      "outputs": []
    },
    {
      "cell_type": "code",
      "metadata": {
        "id": "kwu7OKAaju1S"
      },
      "source": [
        ""
      ],
      "execution_count": null,
      "outputs": []
    }
  ]
}